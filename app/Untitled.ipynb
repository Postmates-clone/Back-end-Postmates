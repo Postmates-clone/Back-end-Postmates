{
 "cells": [
  {
   "cell_type": "code",
   "execution_count": 1,
   "metadata": {},
   "outputs": [],
   "source": [
    "from stores.serializers import *"
   ]
  },
  {
   "cell_type": "code",
   "execution_count": 2,
   "metadata": {},
   "outputs": [
    {
     "data": {
      "text/plain": [
       "StoreSerializer():\n",
       "    name = CharField(help_text='가게 이름', max_length=30)\n",
       "    description = CharField(help_text='가게 설명', style={'base_template': 'textarea.html'})\n",
       "    store_img = ImageField(allow_null=True, help_text='썸네일 이미지', max_length=100, required=False)\n",
       "    delivery_time = CharField(help_text='주문 가능 시간', max_length=30)\n",
       "    is_delivery = BooleanField(help_text='배달 여부')\n",
       "    is_pickup = BooleanField(help_text='테이크아웃 여부')\n",
       "    delivery_fee = IntegerField(help_text='배달 비', max_value=2147483647, min_value=-2147483648)\n",
       "    estimated_prep_time = IntegerField(help_text='예상 준비 시간', max_value=2147483647, min_value=-2147483648)\n",
       "    is_partner = BooleanField(help_text='파트너인지 여부')\n",
       "    address = CharField(help_text='가게 주소', max_length=50)\n",
       "    lat = FloatField(help_text='위도')\n",
       "    lng = FloatField(help_text='경도')\n",
       "    food_type = CharField(help_text='가게 요리 분류', max_length=10)\n",
       "    city = CharField(help_text='도시', max_length=30)\n",
       "    badges = PrimaryKeyRelatedField(many=True, queryset=Badge.objects.all(), required=False)\n",
       "    menus = MenuSerializer(many=True):\n",
       "        name = CharField(help_text='음식 이름', max_length=50)\n",
       "        description = CharField(help_text='음식 설명', style={'base_template': 'textarea.html'})\n",
       "        image_url = CharField(help_text='음식 대표 이미지', style={'base_template': 'textarea.html'})\n",
       "        base_price = IntegerField(help_text='음식 가격', max_value=2147483647, min_value=-2147483648)\n",
       "        options = OptionSerializer(many=True):\n",
       "            name = CharField(help_text='옵션 이름', max_length=50)\n",
       "            option_price = IntegerField(help_text='옵션 가격', max_value=2147483647, min_value=-2147483648)\n",
       "    open_hour = StringRelatedField()"
      ]
     },
     "execution_count": 2,
     "metadata": {},
     "output_type": "execute_result"
    }
   ],
   "source": []
  },
  {
   "cell_type": "code",
   "execution_count": null,
   "metadata": {},
   "outputs": [],
   "source": []
  }
 ],
 "metadata": {
  "kernelspec": {
   "display_name": "Django Shell-Plus",
   "language": "python",
   "name": "django_extensions"
  },
  "language_info": {
   "codemirror_mode": {
    "name": "ipython",
    "version": 3
   },
   "file_extension": ".py",
   "mimetype": "text/x-python",
   "name": "python",
   "nbconvert_exporter": "python",
   "pygments_lexer": "ipython3",
   "version": "3.7.5"
  }
 },
 "nbformat": 4,
 "nbformat_minor": 4
}
