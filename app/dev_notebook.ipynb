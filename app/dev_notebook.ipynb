{
 "cells": [
  {
   "cell_type": "markdown",
   "metadata": {},
   "source": [
    "# User 생성"
   ]
  },
  {
   "cell_type": "code",
   "execution_count": 1,
   "metadata": {},
   "outputs": [],
   "source": [
    "from django.contrib.auth import get_user_model\n",
    "\n",
    "User = get_user_model()"
   ]
  },
  {
   "cell_type": "code",
   "execution_count": 17,
   "metadata": {},
   "outputs": [],
   "source": [
    "user = User.objects.create_user('test-user-2', '1234')"
   ]
  },
  {
   "cell_type": "code",
   "execution_count": 12,
   "metadata": {},
   "outputs": [],
   "source": [
    "user_admin = User.objects.create_superuser('admin', '1234')"
   ]
  },
  {
   "cell_type": "markdown",
   "metadata": {},
   "source": [
    "# Feed"
   ]
  },
  {
   "cell_type": "code",
   "execution_count": 1,
   "metadata": {},
   "outputs": [],
   "source": [
    "from django.contrib.gis.db.models.functions import Distance\n",
    "from django.contrib.gis.geos import Point\n",
    "from django.contrib.gis.measure import D\n",
    "from django.db.models import Count\n",
    "from django_filters import NumberFilter\n",
    "from django_filters.rest_framework import FilterSet, CharFilter"
   ]
  },
  {
   "cell_type": "code",
   "execution_count": 24,
   "metadata": {},
   "outputs": [],
   "source": [
    "san = [37.757815,-122.5076404]\n",
    "new = [40.6976701,-74.2598717]\n",
    "la = [34.0207305,-118.6919268]"
   ]
  },
  {
   "cell_type": "markdown",
   "metadata": {},
   "source": [
    "## San"
   ]
  },
  {
   "cell_type": "code",
   "execution_count": 52,
   "metadata": {},
   "outputs": [],
   "source": [
    "pnt = Point(*la)\n",
    "ret = Store.objects.filter(\n",
    "    latlng__distance_lt=(pnt, D(km=100))\n",
    ").annotate(\n",
    "    favorite_counts=Count('favorites'),\n",
    "    distance=Distance(pnt, 'latlng')\n",
    ").order_by(\n",
    "    'estimated_prep_time','distance'\n",
    ")"
   ]
  },
  {
   "cell_type": "code",
   "execution_count": 53,
   "metadata": {},
   "outputs": [
    {
     "name": "stdout",
     "output_type": "stream",
     "text": [
      "0 / IHOP / Hollywood / 39149.81132416 m / 0 / 0\n",
      "1 / Krispy Kreme Doughnuts / Los Angeles / 39738.24426822 m / 0 / 0\n",
      "2 / CVS Pharmacy / Los Angeles / 42734.52088552 m / 0 / 0\n",
      "3 / Nocturnal Eats / Los Angeles / 43725.84831219 m / 0 / 0\n",
      "4 / Gio's NYC Pizza / Los Angeles / 43725.84831219 m / 0 / 0\n",
      "5 / El Taurino / Los Angeles / 45401.65117121 m / 0 / 0\n",
      "6 / Del Taco / Los Angeles / 45427.52350527 m / 0 / 0\n",
      "7 / Lucy's Drive Thru / Los Angeles / 46176.59944598 m / 0 / 0\n",
      "8 / Taco Bell / Los Angeles / 46179.94164303 m / 0 / 0\n",
      "9 / Chevron ExtraMile / Los Angeles / 46750.36042186 m / 0 / 0\n",
      "10 / Breakfast in a Scramble / Los Angeles / 46940.90652219 m / 0 / 0\n",
      "11 / Burger Bytes / Los Angeles / 46940.90652219 m / 0 / 0\n",
      "12 / Burn Burger / Los Angeles / 46940.90652219 m / 0 / 0\n",
      "13 / Gradys House of Chicken / Los Angeles / 46940.90652219 m / 0 / 0\n",
      "14 / American Eclectic Burger / Los Angeles / 46940.90652219 m / 0 / 0\n",
      "15 / Le Pain Quotidien / Los Angeles / 48658.08561899 m / 0 / 0\n",
      "16 / Jack in the Box / Los Angeles / 49284.13441301 m / 0 / 0\n",
      "17 / 7-Eleven / Los Angeles / 49908.02564914 m / 0 / 0\n",
      "18 / Starbucks / Los Angeles / 50283.49545118 m / 0 / 0\n",
      "19 / Qin West Chinese Cuisine / Los Angeles / 50414.95595528 m / 0 / 0\n",
      "20 / Full House Seafood Restaurant / Los Angeles / 50529.79555597 m / 0 / 0\n",
      "21 / Oriel Chinatown / Los Angeles / 50713.03219644 m / 0 / 0\n",
      "22 / Yum Yum Donuts / Los Angeles / 52379.60693129 m / 0 / 0\n",
      "23 / Carnitas Michoacan / Los Angeles / 52411.58799116 m / 0 / 0\n",
      "24 / Consumers Liquor / Los Angeles / 38708.2455999 m / 5 / 0\n",
      "25 / Fat Tomato Pizza / Los Angeles / 39465.86936058 m / 5 / 0\n",
      "26 / Whipp'd  LA / Los Angeles / 39465.86936058 m / 5 / 0\n",
      "27 / M i l c ! / Los Angeles / 40184.10424922 m / 5 / 0\n",
      "28 / Chabelita Tacos Inc. / Los Angeles / 42564.55018197 m / 5 / 0\n",
      "29 / Lorenzo's of New York (Downtown) / Los Angeles / 43725.84831219 m / 5 / 1\n",
      "30 / Pizzaoki (Downtown) / Los Angeles / 43725.84831219 m / 5 / 0\n",
      "31 / Que Ricos! / Los Angeles / 44655.98499478 m / 5 / 0\n",
      "32 / Itacho Ramen and Sushi / Los Angeles / 38237.15190557 m / 10 / 0\n",
      "33 / Red Corn Taqueria / Los Angeles / 46940.90652219 m / 10 / 0\n",
      "34 / Winchell's Donut House / Los Angeles / 47922.2037804 m / 10 / 0\n",
      "35 / Masala 2 / Los Angeles / 38454.01069221 m / 15 / 0\n",
      "36 / Kai Ramen Melrose / Los Angeles / 40797.43733651 m / 15 / 0\n",
      "37 / Burger Factory II / Los Angeles / 43589.23018273 m / 15 / 0\n",
      "38 / Darabar Secret Thai Cuisine / Los Angeles / 43661.14961555 m / 15 / 0\n",
      "39 / Cheebo / Los Angeles / 43725.84831219 m / 15 / 0\n",
      "40 / Angel Pasta Co / Los Angeles / 43725.84831219 m / 15 / 0\n",
      "41 / Oscar's Pancake Bar / Los Angeles / 43725.84831219 m / 15 / 0\n",
      "42 / Cheebo's Burger Stand / Los Angeles / 43725.84831219 m / 15 / 0\n",
      "43 / Angel Wings / Los Angeles / 43725.84831219 m / 15 / 0\n",
      "44 / Astro Family Restaurant / Los Angeles / 48385.22658161 m / 15 / 0\n",
      "45 / Dj's Convenience Store and Smoke Shop / Los Angeles / 48444.40246509 m / 15 / 0\n",
      "46 / Berri's Pizza / Los Angeles / 38798.94691121 m / 20 / 0\n",
      "47 / Isshin Ramen & Boba / Los Angeles / 39512.65718252 m / 20 / 0\n",
      "48 / HOLLYWOOD Pizza Cafe / Los Angeles / 40182.80502747 m / 20 / 0\n",
      "49 / NY CRUST / Los Angeles / 42890.09809654 m / 20 / 0\n",
      "50 / BCD Tofu House / Los Angeles / 43340.73047881 m / 20 / 0\n",
      "51 / Fukurou Ramen / Los Angeles / 43704.11286442 m / 20 / 0\n",
      "52 / Thick 'N' Tasty Pizza (Downtown) / Los Angeles / 43725.84831219 m / 20 / 0\n",
      "53 / The Ice Cream Shop / Los Angeles / 43725.84831219 m / 20 / 0\n",
      "54 / Lily Mae's Hot Chicken / Los Angeles / 43725.84831219 m / 20 / 0\n",
      "55 / Kreation Organic / Los Angeles / 43725.84831219 m / 20 / 0\n",
      "56 / Häagen-Dazs / Los Angeles / 43725.84831219 m / 20 / 0\n",
      "57 / The Coolhaus Ice Cream Shop / Los Angeles / 43725.84831219 m / 20 / 0\n",
      "58 / Pink Dot East / Los Angeles / 43725.84831219 m / 20 / 0\n",
      "59 / Hodori / Los Angeles / 44492.84297802 m / 20 / 0\n",
      "60 / Alessandro's Place / Los Angeles / 45324.12240137 m / 20 / 0\n",
      "61 / G Station / Los Angeles / 45556.70529953 m / 20 / 0\n",
      "62 / El Huero / Los Angeles / 46068.66628494 m / 20 / 0\n",
      "63 / Ricky's Pizza / Los Angeles / 46208.11117723 m / 20 / 0\n",
      "64 / Zero Ramen and Sushi / Los Angeles / 46693.87303757 m / 20 / 0\n",
      "65 / Trap Tacos / Los Angeles / 47626.05172111 m / 20 / 0\n",
      "66 / L.A. Chinese Restaurant / Los Angeles / 48225.95645367 m / 20 / 0\n",
      "67 / The Restaurant at The Standard / Los Angeles / 48389.25600206 m / 20 / 0\n",
      "68 / Ocean Seafood Restaurant / Los Angeles / 50338.69729848 m / 20 / 0\n",
      "69 / Farmer Boys / Los Angeles / 50441.87614309 m / 20 / 0\n",
      "70 / Denny's / Los Angeles / 51196.83000391 m / 20 / 0\n",
      "71 / Carl's Jr. / Los Angeles / 53972.91341878 m / 20 / 0\n",
      "72 / Fatburger / Los Angeles / 44676.03530107 m / 25 / 0\n",
      "73 / Wow Bao / Los Angeles / 46940.90652219 m / 25 / 0\n",
      "74 / Volcano Wok / Hollywood / 39013.76028037 m / 30 / 0\n",
      "75 / Cajun Seafood House / Los Angeles / 43165.84940453 m / 30 / 0\n",
      "76 / Froman's Chicago Deep Dish Pizza / Los Angeles / 43725.84831219 m / 30 / 0\n",
      "77 / Ten Ramen / Los Angeles / 44190.86469551 m / 30 / 0\n",
      "78 / Bossa Nova Brazilian Cuisine / Los Angeles / 38620.27080975 m / 35 / 0\n",
      "79 / Tumnak Thai Food & Pho / Los Angeles / 43165.84940453 m / 35 / 0\n",
      "80 / Crispy Pork Gang / Los Angeles / 43192.57763823 m / 40 / 0\n"
     ]
    }
   ],
   "source": [
    "for idx, val in enumerate(ret):\n",
    "    print(f'{idx} / {val.name} / {val.city} / {val.distance} / {val.estimated_prep_time} / {val.favorite_counts}')"
   ]
  },
  {
   "cell_type": "code",
   "execution_count": 8,
   "metadata": {},
   "outputs": [
    {
     "name": "stdout",
     "output_type": "stream",
     "text": [
      "j\n"
     ]
    }
   ],
   "source": [
    "test = 'san fran'\n",
    "if 'san' in test:\n",
    "    print('j')"
   ]
  },
  {
   "cell_type": "code",
   "execution_count": 14,
   "metadata": {},
   "outputs": [
    {
     "data": {
      "text/plain": [
       "'san fran'"
      ]
     },
     "execution_count": 14,
     "metadata": {},
     "output_type": "execute_result"
    }
   ],
   "source": [
    "f'{test}'.lower()"
   ]
  },
  {
   "cell_type": "code",
   "execution_count": null,
   "metadata": {},
   "outputs": [],
   "source": [
    "str"
   ]
  }
 ],
 "metadata": {
  "kernelspec": {
   "display_name": "Django Shell-Plus",
   "language": "python",
   "name": "django_extensions"
  },
  "language_info": {
   "codemirror_mode": {
    "name": "ipython",
    "version": 3
   },
   "file_extension": ".py",
   "mimetype": "text/x-python",
   "name": "python",
   "nbconvert_exporter": "python",
   "pygments_lexer": "ipython3",
   "version": "3.7.5"
  }
 },
 "nbformat": 4,
 "nbformat_minor": 4
}
