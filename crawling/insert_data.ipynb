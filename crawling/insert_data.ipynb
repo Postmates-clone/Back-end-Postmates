{
 "cells": [
  {
   "cell_type": "code",
   "execution_count": 1,
   "metadata": {},
   "outputs": [],
   "source": [
    "import os\n",
    "import json\n",
    "from django.db import IntegrityError\n",
    "from django.core.exceptions import ObjectDoesNotExist\n",
    "\n",
    "\n",
    "from functions.utils import get_data\n",
    "\n",
    "ROOT_DIR = os.path.dirname(os.path.abspath('__file__'))\n",
    "DATA_DIR = os.path.join(ROOT_DIR, 'data')"
   ]
  },
  {
   "cell_type": "code",
   "execution_count": 2,
   "metadata": {},
   "outputs": [],
   "source": [
    "for dirpath, dirnames, filenames in os.walk(DATA_DIR):\n",
    "    for filename in filenames:\n",
    "        data = os.path.join(dirpath, filename)\n",
    "        with open(data) as json_file:\n",
    "            STORE = json.load(json_file)\n",
    "                    \n",
    "        \n",
    "        # store 생성             \n",
    "        try:\n",
    "            store = Store.objects.get(url=STORE['url'])\n",
    "        except ObjectDoesNotExist:\n",
    "            store = Store.objects.create(\n",
    "                url = get_data(STORE, ['url']),\n",
    "                description = get_data(STORE, ['description']),\n",
    "                name = get_data(STORE, ['name']),\n",
    "                store_img = get_data(STORE, ['store_img']),\n",
    "                is_delivery = get_data(STORE, ['is_delivery']),\n",
    "                address = get_data(STORE, ['address']),\n",
    "                lat = get_data(STORE, ['lat']),\n",
    "                lng = get_data(STORE, ['lng']),\n",
    "                food_type = get_data(STORE, ['store_type']),\n",
    "                city = get_data(STORE, ['city'])\n",
    "            )\n",
    "            if get_data(STORE, ['delivery_fee']): store.delivery_fee = STORE['delivery_fee']\n",
    "            if get_data(STORE, ['is_pickup']): store.is_pickup = STORE['is_pickup']\n",
    "            if get_data(STORE, ['is_partner']): store.is_partner = STORE['is_partner']\n",
    "            if get_data(STORE, ['last_order_time']):store.last_order_time = STORE['last_order_time']\n",
    "            if get_data(STORE, ['estimated_prep_time']) : store.estimated_prep_time = STORE['estimated_prep_time']\n",
    "            if get_data(STORE, ['delivery_message']) : store.delivery_message = STORE['delivery_message']\n",
    "            \n",
    "            store.save()\n",
    "        \n",
    "        # badge 생성\n",
    "        if STORE['badges']:\n",
    "            for badge in STORE['badges']:\n",
    "                try:\n",
    "                    Badge.objects.create(text=badge['text'])\n",
    "                except IntegrityError:\n",
    "                    pass\n",
    "                finally:\n",
    "                    B = Badge.objects.get(text=badge['text'])\n",
    "                    store.badges.add(B)\n",
    "                \n",
    "        # open hours 생성\n",
    "        if STORE['open_hours']:\n",
    "            for open_hour in STORE['open_hours']:\n",
    "                try:\n",
    "                    oh = OpenHour.objects.create(store=store)\n",
    "                except IntegrityError:\n",
    "                    oh = OpenHour.objects.get(store=store)\n",
    "                finally:\n",
    "                    hour = Hour.objects.create(\n",
    "                        open_hour = oh,\n",
    "                        start = open_hour['start_time'],\n",
    "                        end = open_hour['end_time'],\n",
    "                        day = open_hour['day_of_week']\n",
    "                    )\n",
    "                    oh.hours.add(hour)\n",
    "\n",
    "        for menu_category in get_data(STORE,['all_menus']):\n",
    "            mc = MenuCategory.objects.create(\n",
    "                store=store, \n",
    "                name=get_data(menu_category, ['name'])\n",
    "            )\n",
    "            \n",
    "            for menu in get_data(menu_category, ['menus']):\n",
    "                # menu 생성\n",
    "                M = Menu.objects.create(\n",
    "                    name = get_data(menu, ['name']),\n",
    "                    description = menu['description'].strip() if get_data(menu, ['description']) else None,\n",
    "                    image_url = get_data(menu, ['img_url']),\n",
    "                    price = get_data(menu, ['base_price'])\n",
    "                )\n",
    "                for option_category in get_data(menu, ['option_groups']):  \n",
    "                    # option category 생성\n",
    "                    try:\n",
    "                        opt_cate = OptionCategory.objects.create(\n",
    "                            name = get_data(option_category, ['category']),\n",
    "                            is_required = get_data(option_category, ['is_required'])\n",
    "                        )\n",
    "                    except IntegrityError:\n",
    "                        continue\n",
    "\n",
    "                    # option 생성\n",
    "                    for option in get_data(option_category, ['options']):\n",
    "                        Option.objects.create(\n",
    "                            category = opt_cate, \n",
    "                            name = get_data(option, ['name']), \n",
    "                            price = get_data(option, ['price'])\n",
    "                        )\n",
    "                    # menu에 option category 추가\n",
    "                    M.option_categories.add(opt_cate)\n",
    "                # menu category에 menu 추가\n",
    "                mc.menu.add(M)\n",
    "            "
   ]
  },
  {
   "cell_type": "markdown",
   "metadata": {},
   "source": [
    "# TEST"
   ]
  },
  {
   "cell_type": "code",
   "execution_count": 7,
   "metadata": {},
   "outputs": [],
   "source": [
    "from django.contrib.gis.db.models.functions import Distance\n",
    "from django.contrib.gis.geos import Point\n",
    "from django.contrib.gis.measure import D\n",
    "from django.db.models import Count\n",
    "from django_filters import NumberFilter\n",
    "from django_filters.rest_framework import FilterSet, CharFilter"
   ]
  },
  {
   "cell_type": "code",
   "execution_count": 107,
   "metadata": {},
   "outputs": [
    {
     "name": "stdout",
     "output_type": "stream",
     "text": [
      "POINT (40.7484445 -73.9878531)\n"
     ]
    }
   ],
   "source": [
    "lat = 40.7484445\n",
    "lng = -73.9878531\n",
    "pnt = Point(\n",
    "    lat,\n",
    "    lng\n",
    ")\n",
    "print(pnt)"
   ]
  },
  {
   "cell_type": "code",
   "execution_count": 102,
   "metadata": {},
   "outputs": [],
   "source": [
    "pnt = Point(\n",
    "    lat,\n",
    "    lng\n",
    ")\n",
    "ret = Store.objects.filter(\n",
    "    latlng__distance_lt=(pnt, D(km=30)),\n",
    ").annotate(distance=Distance(pnt, 'latlng')).order_by('distance')"
   ]
  },
  {
   "cell_type": "code",
   "execution_count": 84,
   "metadata": {},
   "outputs": [
    {
     "name": "stdout",
     "output_type": "stream",
     "text": [
      "Cafe 28 / New York \n",
      "Bread & Butter / New York \n",
      "Taco Bell / New York \n",
      "L'Express / New York \n",
      "New Andy's Deli / New York \n",
      "Headless Horseman / New York \n"
     ]
    }
   ],
   "source": [
    "for idx, value in enumerate(ret):\n",
    "    if idx > 5:\n",
    "        break;\n",
    "    print(f'{value.name} / {value.city} ')"
   ]
  },
  {
   "cell_type": "code",
   "execution_count": 73,
   "metadata": {},
   "outputs": [],
   "source": [
    "ret = Store.objects.annotate(favorite_counts=Count('favorites')).order_by('-favorite_counts')"
   ]
  },
  {
   "cell_type": "code",
   "execution_count": 74,
   "metadata": {},
   "outputs": [
    {
     "name": "stdout",
     "output_type": "stream",
     "text": [
      "Lorenzo's of New York (Downtown) / Los Angeles / 1\n",
      "Sades Motherless / New York / 0\n",
      "Oriel Chinatown / Los Angeles / 0\n",
      "Ray's Pizza / New York / 0\n",
      "Lower East Side Coffee Shop / New York / 0\n",
      "Taco Bell / New York / 0\n"
     ]
    }
   ],
   "source": [
    "for idx, value in enumerate(ret):\n",
    "    if idx > 5:\n",
    "        break;\n",
    "    print(f'{value.name} / {value.city} / {value.favorite_counts}')"
   ]
  },
  {
   "cell_type": "code",
   "execution_count": 55,
   "metadata": {},
   "outputs": [],
   "source": [
    "ret = ret.filter(\n",
    "    latlng__distance_lt=(pnt, D(km=30)),\n",
    ").annotate(distance=Distance(pnt, 'latlng')).order_by('distance')"
   ]
  },
  {
   "cell_type": "code",
   "execution_count": 56,
   "metadata": {},
   "outputs": [
    {
     "name": "stdout",
     "output_type": "stream",
     "text": [
      "Cafe 28 / New York / 0\n",
      "Bread & Butter / New York / 0\n",
      "Taco Bell / New York / 0\n",
      "L'Express / New York / 0\n",
      "New Andy's Deli / New York / 0\n",
      "Headless Horseman / New York / 0\n"
     ]
    }
   ],
   "source": [
    "for idx, value in enumerate(ret):\n",
    "    if idx > 5:\n",
    "        break;\n",
    "    print(f'{value.name} / {value.city} / {value.favorite_counts}')"
   ]
  },
  {
   "cell_type": "code",
   "execution_count": 121,
   "metadata": {},
   "outputs": [],
   "source": [
    "ret = Store.objects.filter(\n",
    "    latlng__distance_lt=(pnt, D(km=30))\n",
    ").annotate(\n",
    "    favorite_counts=Count('favorites'),\n",
    "    distance=Distance(pnt, 'latlng')\n",
    ").order_by(\n",
    "    '-favorite_counts', 'distance'\n",
    ")"
   ]
  },
  {
   "cell_type": "code",
   "execution_count": 122,
   "metadata": {},
   "outputs": [
    {
     "name": "stdout",
     "output_type": "stream",
     "text": [
      "Cafe 28 / New York / 0\n",
      "Bread & Butter / New York / 1\n",
      "Taco Bell / New York / 0\n",
      "L'Express / New York / 0\n",
      "New Andy's Deli / New York / 0\n",
      "Headless Horseman / New York / 0\n"
     ]
    }
   ],
   "source": [
    "for idx, value in enumerate(ret):\n",
    "    if idx > 5:\n",
    "        break;\n",
    "    print(f'{value.name} / {value.city} / {value.favorite_counts}')"
   ]
  },
  {
   "cell_type": "code",
   "execution_count": 118,
   "metadata": {},
   "outputs": [],
   "source": []
  },
  {
   "cell_type": "code",
   "execution_count": null,
   "metadata": {},
   "outputs": [],
   "source": []
  }
 ],
 "metadata": {
  "kernelspec": {
   "display_name": "Django Shell-Plus",
   "language": "python",
   "name": "django_extensions"
  },
  "language_info": {
   "codemirror_mode": {
    "name": "ipython",
    "version": 3
   },
   "file_extension": ".py",
   "mimetype": "text/x-python",
   "name": "python",
   "nbconvert_exporter": "python",
   "pygments_lexer": "ipython3",
   "version": "3.7.5"
  }
 },
 "nbformat": 4,
 "nbformat_minor": 4
}
